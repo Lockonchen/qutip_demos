{
 "cells": [
  {
   "cell_type": "code",
   "execution_count": 1,
   "id": "a6ee37b8-89dd-456b-9dd3-65e03947e8f8",
   "metadata": {},
   "outputs": [],
   "source": [
    "import numpy as np\n",
    "import scipy as sc\n",
    "import scipy.constants as cn\n",
    "from scipy.interpolate import interp1d\n",
    "import matplotlib.pyplot as plt\n",
    "\n",
    "#from qutip import *\n",
    "#from tucpler import *"
   ]
  },
  {
   "cell_type": "markdown",
   "id": "c298e413-3356-478d-b03f-1f62b6dfc577",
   "metadata": {},
   "source": [
    "# 可调耦合器中的超导量子比特参数设计\n",
    "\n",
    "参数设计考虑两个方面：一个是工艺上的限制，另一个是功能上的限制。超导比特基于非线性谐振子制成，。参数对比特进行限制，工艺决定了比特的优劣，。\n",
    "\n",
    "#### 设计流程总结：\n",
    "* 非谐 -> 确定量子比特的电容\n",
    "* 由量子比特的频率结合非谐 -> 确定 $\\frac{E_J}{E_C}$ 的比值 -> 根据SQUID的类型确定两个约瑟夫森结的常温电阻\n",
    "* 超导量子比特之间的耦合 -> 根据可调耦合强度的调节范围确定耦合电容的大小和可调耦合器参数(若以保真度为优先条件，这一步不需要)\n",
    "* 考虑 Coupler 的频率范围 -> 确定 Coupler 的 $\\frac{E_J}{E_C}$ -> 根据SQUID的类型确定两个约瑟夫森结的常温电阻\n",
    "\n",
    "* 读出谐振腔的频率和超导量子比特之间的耦合强度 -> 确定读出谐振腔与超导量子比特之间的耦合电容\n",
    "* 读出谐振腔的耗散和读出谐振腔的频率 -> 确定读出谐振腔与总线之间的耦合电容和读出谐振腔的外品质因子\n",
    "\n",
    "\n",
    "上述是一般比特设计的流程。加入了可调耦合器以后，要优先考虑双比特门的实现。为了达到高保真度，比特、Coupler 的设计参数都是事先通过优化过程选择好的。当然，会在设计参数的限制下进行选择。此时打开点与关断点已经确定，可以直接算出对应的比特间有效耦合强度。\n",
    "\n",
    "接着要考虑比特频率范围、耦合器频率范围(其中包括了耦合器调节范围)、腔频点，这三个范围不能重合，并且要有足够间距。\n",
    "\n",
    "最后要考虑同时实现单比特门与双比特门，此时比特频率变动会导致开关点变动，即耦合器调节范围，这个变动不能超出耦合器本身的频率范围。\n",
    "\n",
    "### 电容的确定"
   ]
  },
  {
   "cell_type": "code",
   "execution_count": 2,
   "id": "7fd8f8c9-f4ea-4f7f-973e-97d0a2f314c7",
   "metadata": {},
   "outputs": [],
   "source": [
    "# 电容与非谐的互换\n",
    "def c_to_eta(C):\n",
    "    '''Transfer capacity to the corresponding anharmonicity'''\n",
    "    eta = -cn.e**2/(2 * cn.h * C *1e6)*1e15\n",
    "    return round(eta)\n",
    "    \n",
    "def eta_to_c(eta):\n",
    "    '''Transfer anharmonicity to the corresponding capacity'''\n",
    "    C = -cn.e**2/(2*cn.h*eta*1e6)*1e15\n",
    "    return C"
   ]
  },
  {
   "cell_type": "markdown",
   "id": "4b0708bc-3ad2-4f11-84a9-72185288e5fc",
   "metadata": {},
   "source": [
    "非谐范围限制由经验确定, 为 -220 ~ -260 MHz，对应比特电容上下限如下："
   ]
  },
  {
   "cell_type": "code",
   "execution_count": 3,
   "id": "801235b3-d4ef-40a9-b378-69bc0eb92382",
   "metadata": {},
   "outputs": [
    {
     "name": "stdout",
     "output_type": "stream",
     "text": [
      "88 74\n"
     ]
    }
   ],
   "source": [
    "Cmin, Cmax = eta_to_c(-220), eta_to_c(-260)\n",
    "print(int(Cmin), int(Cmax))"
   ]
  },
  {
   "cell_type": "markdown",
   "id": "7d74109b-96e1-4e3b-9a45-3404d12f8956",
   "metadata": {},
   "source": [
    "由优化结果确定比特电容为 86fF"
   ]
  },
  {
   "cell_type": "code",
   "execution_count": 4,
   "id": "10cf410c-4e5d-46a3-8325-8c7e84c94b7b",
   "metadata": {},
   "outputs": [],
   "source": [
    "C1, C2 = 86, 86\n",
    "eta1, eta2 = c_to_eta(C1), c_to_eta(C2)"
   ]
  },
  {
   "cell_type": "code",
   "execution_count": 5,
   "id": "4937de31-b569-409b-9abe-9fb717f1312e",
   "metadata": {},
   "outputs": [
    {
     "data": {
      "text/plain": [
       "(-225, -225)"
      ]
     },
     "execution_count": 5,
     "metadata": {},
     "output_type": "execute_result"
    }
   ],
   "source": [
    "eta1, eta2"
   ]
  },
  {
   "cell_type": "markdown",
   "id": "87ad6bd9-a6ec-4123-ac9d-1a6f4c5e1750",
   "metadata": {},
   "source": [
    "### 量子比特频率结合非谐确定SQUID参数\n",
    "\n",
    "首先明确，量子比特频率指的是非线性谐振子的10能级差，为了不与其他频率混淆，用 $\\omega_{10}$ 表示。\n",
    "\n",
    "$$\n",
    "\\omega_{10} = \\frac{\\sqrt{8 E_{J}E_{C}}-E_{C}}{\\hbar}\n",
    "$$\n",
    "其中 $E_{C} = \\frac{e^{2}}{2C}$。对于单结，$E_{J} = \\frac{I_{c} \\Phi_{0}}{2\\pi}$。对于双结即 SQUID，该式改为：\n",
    "\n",
    "$$\n",
    "E_{J} = (E_{j1}+E_{j2})cos\\left(\\pi\\frac{\\Phi_{c}}{\\Phi_{0}}\\right)\\sqrt{ 1+d^{2}tan^{2}\\left(\\pi\\frac{\\Phi_{c}}{\\Phi_{0}}\\right) }\n",
    "$$\n",
    "其中 $d=\\frac{E_{j1}-E_{j2}}{E_{j1}+E_{j2}}$ 为不对称度，$E_{j1}$和$E_{j2}$ 分别是两个单结的约瑟夫森结能量。 \n",
    "\n",
    "可以从上式的三角函数关系中得出 $\\omega_{01}$ 的变化范围：\n",
    "\n",
    "$$\n",
    "\\left[\\frac{\\sqrt{8 (E_{j1}-E_{j2}) E_{C}}-E_{C}}{\\hbar}, \\frac{\\sqrt{8 (E_{j1}+E_{j2}) E_{C}}-E_{C}}{\\hbar}\\right]\n",
    "$$\n",
    "\n",
    "量子比特的频率调节范围需要根据实际需要予以限制。一般各个频率点的功能为：\n",
    "* 最大频率 <-------> 读出点\n",
    "* 最低频率 <-------> 双比特门\n",
    "* 中间某处 <-------> 单比特门\n",
    "\n",
    "为了抑制charge noise，要令 $E_{J}/E_{C}$ > 80 甚至90，但不能太大。\n",
    "\n",
    "由上式可以反推出：$E_{Jmin}=\\frac{(\\omega_{1}\\hbar+E_{C})^{2}}{8E_{C}}$、$E_{Jmax}=\\frac{(\\omega_{2}\\hbar+E_{C})^{2}}{8E_{C}}$。注意这个式子中的单位配平，只需将分子中的单位配成一样即可。\n",
    "\n",
    "\n",
    "接下来计算约瑟夫森结的常温电阻\n",
    "#### 方法一：\n",
    "\n",
    "如果量子比特频率的范围已经确定，可以根据上述公式联立出关于 $E_{j1}, E_{j2}$ 的方程。从而反推出 两个单结的 约瑟夫森常温电阻，也自然地计算出不确定度。\n",
    "\n",
    "首先限制比特频率为：4.52 ~ 5.52 GHz\n",
    "\n",
    "此时令 $E_{j1}+E_{j2}=A$，先赋一个值，\n",
    "\n",
    "之前计算出量子比特的非谐为：-227\n",
    "\n",
    "#### 方法二：\n",
    "\n",
    "可以画出不同不对称度 d 下，比特频率随磁通量 $\\Phi_{C}$ 的变化关系。\n",
    "\n",
    "\n",
    "### 方法一计算常温电阻（仅适用非对称结）"
   ]
  },
  {
   "cell_type": "code",
   "execution_count": 6,
   "id": "5fe7f3c5-54f5-49e1-b53d-85d7bf3b7a9e",
   "metadata": {},
   "outputs": [],
   "source": [
    "def JR_N(w1, w2, C):\n",
    "    '''Calculate the resistance of SQUID in NORMAL temperature'''\n",
    "    Ec = cn.e**2/(2*C*1e-15)        ##令此处单位为国际单位制\n",
    "    \n",
    "    A = (w1*1e9*cn.h + Ec)**2 / (8*Ec) ##令此处单位为国际单位制,注意 w1 的输入其实是 f1，所以 hbar 输入为 h 即可\n",
    "    B = (w2*1e9*cn.h + Ec)**2 / (8*Ec)\n",
    "    d = A/B\n",
    "    \n",
    "    Ej1 = (A+B)/2\n",
    "    Ej2 = (B-A)/2\n",
    "    \n",
    "    Phi0 = cn.h/(2*cn.e)\n",
    "    Ic1 = 2*np.pi*Ej1 / Phi0\n",
    "    Ic2 = 2*np.pi*Ej2 / Phi0\n",
    "    \n",
    "    R1 = 230/Ic1*1e-9 ; R2 = 230/Ic2*1e-9  ## 令此处电阻的单位为 kΩ\n",
    "    \n",
    "    return R1, R2, d, A, B"
   ]
  },
  {
   "cell_type": "code",
   "execution_count": 7,
   "id": "b25f64f3-8029-4d30-996b-aa9b007ffe60",
   "metadata": {},
   "outputs": [
    {
     "data": {
      "text/plain": [
       "(5.755251164784821,\n",
       " 68.89835697788375,\n",
       " 0.8458145210132079,\n",
       " 1.2053589600448299e-23,\n",
       " 1.4250866237209086e-23)"
      ]
     },
     "execution_count": 7,
     "metadata": {},
     "output_type": "execute_result"
    }
   ],
   "source": [
    "JR_N(5.5, 6, 86)"
   ]
  },
  {
   "cell_type": "code",
   "execution_count": 8,
   "id": "bba9c14e-76d2-46e2-b332-935e716a5e29",
   "metadata": {},
   "outputs": [
    {
     "data": {
      "text/plain": [
       "(5.856365346690112,\n",
       " 86.849693287714,\n",
       " 0.8736573330167062,\n",
       " 1.2053589600448299e-23,\n",
       " 1.379670168717946e-23)"
      ]
     },
     "execution_count": 8,
     "metadata": {},
     "output_type": "execute_result"
    }
   ],
   "source": [
    "JR_N(5.5, 5.9, 86)"
   ]
  },
  {
   "cell_type": "code",
   "execution_count": 9,
   "id": "b6fc8b6c-3105-42c2-984b-1150b5fda390",
   "metadata": {},
   "outputs": [
    {
     "data": {
      "text/plain": [
       "(10.958004934980881,\n",
       " 10.987678942233638,\n",
       " 0.0013521568714276624,\n",
       " 1.8655304989357333e-26,\n",
       " 1.379670168717946e-23)"
      ]
     },
     "execution_count": 9,
     "metadata": {},
     "output_type": "execute_result"
    }
   ],
   "source": [
    "JR_N(0, 5.9, 86)"
   ]
  },
  {
   "cell_type": "markdown",
   "id": "82455850-6525-4e38-b1a7-334de8051a87",
   "metadata": {},
   "source": [
    "### 方法二计算常温电阻"
   ]
  },
  {
   "cell_type": "code",
   "execution_count": 10,
   "id": "a366c95a-1d12-44c6-8baa-ad276c5adfb7",
   "metadata": {},
   "outputs": [],
   "source": [
    "def w_plot(d, A, Phi_lst=np.linspace(-1, 1, 2001)):\n",
    "    '''Plot the qubit frequency varying with the magnetic flux of SQUID'''\n",
    "    s = 2"
   ]
  },
  {
   "cell_type": "markdown",
   "id": "70262146-7cd8-4821-9d3c-ad44a2b12409",
   "metadata": {},
   "source": []
  },
  {
   "cell_type": "markdown",
   "id": "9ed79c66-b5bc-4a6e-b271-b2b97c0a148b",
   "metadata": {},
   "source": []
  },
  {
   "cell_type": "markdown",
   "id": "2182db8c-7f9a-40ec-a7ef-bf954119d237",
   "metadata": {},
   "source": [
    "### Coupler 频率结合非谐确定 SQUID 参数\n",
    "\n",
    "由于 Coupler 本质上也是比特，所以只需调用上述函数进行计算即可。"
   ]
  },
  {
   "cell_type": "code",
   "execution_count": 12,
   "id": "cacb3256-d5e2-4dde-bd60-f3a7f01834a5",
   "metadata": {},
   "outputs": [
    {
     "data": {
      "text/plain": [
       "(5.37763051389559,\n",
       " 28.495678346651086,\n",
       " 0.6824856682271694,\n",
       " 1.1419439982925712e-23,\n",
       " 1.673213155169829e-23)"
      ]
     },
     "execution_count": 12,
     "metadata": {},
     "output_type": "execute_result"
    }
   ],
   "source": [
    "JR_N(5.9, 7.2, 70)"
   ]
  },
  {
   "cell_type": "code",
   "execution_count": null,
   "id": "b36eeaef-ebec-4740-9193-7d7e9f13f000",
   "metadata": {},
   "outputs": [],
   "source": []
  },
  {
   "cell_type": "markdown",
   "id": "4b34b5d7-b7ab-4aa7-89db-32806ced6f0e",
   "metadata": {},
   "source": [
    "### 读出谐振腔与量子比特之间的耦合\n",
    "\n",
    "读出谐振腔与比特之间需要大失谐且强耦合，即耦合强度要高，频率差要大。\n",
    "\n",
    "参考谷歌文献中对读出谐振腔与量子比特的耦合设计，设定以下参数：\n",
    "* 读出谐振腔与量子比特的耦合强度：$g_{qr}/2\\pi=72$ MHz\n",
    "* 读出谐振腔的频率：$\\omega_{r}/2\\pi = 7.5$ GHz\n",
    "* 比特最大频率：$\\omega_{r}/2\\pi = 6$ GHz\n",
    "* 读出谐振腔的耗散率：$\\gamma/2\\pi = 1$ MHz\n",
    "\n",
    "读出谐振腔本身的耗散率 $\\gamma$ 由谐振腔频率 $\\omega_{r}$ 和 外部品质因子 $Q_{l}$ 决定：\n",
    "$$\n",
    "\\gamma = \\frac{\\omega_{r}}{Q_{l}}\n",
    "$$\n",
    "\n",
    "读出谐振腔的耗散会累加到量子比特上，称作 Percell 效应。Percell 效应造成的比特耗散与 qr耦合强度、腔衰减率 $\\kappa$、比特与腔的失谐 有关。定义为：\n",
    "\n",
    "$$\n",
    "\\gamma^{q}_{01} = \\gamma \\left[\\frac{g_{qr}}{\\omega_{01}-\\omega_{r}}\\right]^{2}\n",
    "$$\n",
    "\n",
    "量子比特的 $T_{1}$ 为耗散率的倒数：\n",
    "$$\n",
    "T_{1} = \\frac{1}{\\gamma^{q}_{01}} = \\frac{1}{\\gamma}\\left[\\frac{\\omega_{01}-\\omega_{r}}{g_{qr}}\\right]^{2}\n",
    "$$\n",
    "\n",
    "读取的结果由色散位移表示，色散位移为：\n",
    "\n",
    "$$\n",
    "\\chi_{eff} = -\\frac{g^{2}_{qr}}{\\omega_{01}-\\omega_{r,bare}}\\frac{1}{1+\\frac{\\omega_{01}-\\omega_{r,bare}}{\\omega_{12}-\\omega_{01}}}\n",
    "$$\n",
    "其中 bare 表示谐振腔未与比特耦合时的情况。\n",
    "\n",
    "这里要注意单位的取值，MHz和GHz之间的转化，以及频率是否是角频率，有一个 2$\\pi$ 的差异。但式子中大多地方也是可以消去 2$\\pi$ 的。\n",
    "程序输入的时候，值基本都是 除以2$\\pi$ 以后的值，在程序中要注意乘回。"
   ]
  },
  {
   "cell_type": "code",
   "execution_count": 20,
   "id": "552ada0a-78a0-4965-898b-a8cd69d6b69e",
   "metadata": {},
   "outputs": [],
   "source": [
    "def Ql(wr, gamma=1):\n",
    "    '''Calculate the out quality factor of readout cavity'''\n",
    "    return int(wr*1e3/gamma)\n",
    "\n",
    "def gamma_q(wq, wr, g_qr, gamma=1):\n",
    "    '''Calculate the dissipation rate of qubits caused by Percell effect\n",
    "    \n",
    "    return: MHz\n",
    "    '''\n",
    "    return gamma * (g_qr/ ((wq - wr)*1e3) )**2\n",
    "\n",
    "def T1(wq, wr, g_qr, gamma=1):\n",
    "    '''Calculate the T1 of qubits under Percell effect\n",
    "    \n",
    "    return: us\n",
    "    '''\n",
    "    return round(1 / gamma_q(wq, wr, g_qr, gamma))\n",
    "\n",
    "def chi(wq, wr, g_qr, eta):\n",
    "    '''Calculate the effective dispersive shift of readout cavity\n",
    "    \n",
    "    return: MHz\n",
    "    '''\n",
    "    wqh = wq + eta * 1e-3\n",
    "    return -(g_qr)**2/((wq-wr)*1e3) * 1/(1+ (wq-wr)/(wqh - wq))"
   ]
  },
  {
   "cell_type": "markdown",
   "id": "b6f014c7-f58b-43c9-bb8d-1b89b6620441",
   "metadata": {},
   "source": [
    "计算得到，Percell 效应下比特的相干时间 $T_{1}$ 为："
   ]
  },
  {
   "cell_type": "code",
   "execution_count": 21,
   "id": "cd571461-f5a7-4598-b301-342078da61be",
   "metadata": {},
   "outputs": [
    {
     "name": "stdout",
     "output_type": "stream",
     "text": [
      "248\n"
     ]
    }
   ],
   "source": [
    "print(T1(5.9, 7.4, 95.3, 1))"
   ]
  },
  {
   "cell_type": "markdown",
   "id": "0f21f8cb-53f2-4537-b114-acf86f9d9668",
   "metadata": {},
   "source": [
    "外品质因子 $Q_{l}$ 为："
   ]
  },
  {
   "cell_type": "code",
   "execution_count": 22,
   "id": "dd091606-847d-49d4-889d-852c5d57da3c",
   "metadata": {},
   "outputs": [
    {
     "name": "stdout",
     "output_type": "stream",
     "text": [
      "7500\n"
     ]
    }
   ],
   "source": [
    "print(Ql(7.5))"
   ]
  },
  {
   "cell_type": "markdown",
   "id": "619e05bc-a062-4446-99e1-9f345c3c8275",
   "metadata": {},
   "source": [
    "色散位移 $\\chi_{eff}$ 为："
   ]
  },
  {
   "cell_type": "code",
   "execution_count": 23,
   "id": "44140887-94b8-42e8-a0bf-8e8524d70597",
   "metadata": {},
   "outputs": [
    {
     "name": "stdout",
     "output_type": "stream",
     "text": [
      "0.2427927927927926\n"
     ]
    }
   ],
   "source": [
    "print(chi(4.5, 6.5, 70, -220))"
   ]
  },
  {
   "cell_type": "markdown",
   "id": "7dc4dade-4441-4920-99b6-f8eaf3695210",
   "metadata": {},
   "source": [
    "一般量子比特与谐振腔间采用电容耦合，其耦合强度由以下公式确定：\n",
    "\n",
    "$$\n",
    "g_{qr}/2\\pi = \\frac{C_{qr}\\sqrt{\\omega_{01}\\omega_{r}}}{2\\sqrt{(C_{qr}+C_{q})(C_{qr}+C_{r})}}\n",
    "$$\n",
    "\n",
    "该式为比特与腔间耦合强度的表达式。在比特电容、腔电容确定了情况下，画出 $g_{qr}$ 随 $C_{qr}$ 变化的曲线，从中取出预定的耦合强度对应的点即可。\n",
    "\n",
    "上式中有一个量还没有提及，就是读取腔的等效电容 $C_{r}$。先前资料中的推荐值为 384 fF。 由以下式子计算而来：\n",
    "\n",
    "在 $\\lambda$/4 谐振腔中，等效电容与特征阻抗 $Z_{r}$ 和特征频率 $\\omega_{r}$ 有关系：\n",
    "\n",
    "$$\n",
    "C_{r}=\\frac{\\pi}{4\\omega_{r}Z_{r}} = \\frac{1}{8f_{r}Z_{r}}\n",
    "$$\n",
    "按照微波器件的习惯，特征阻抗会设定为 50 Ω，于是读取频率 $\\omega_{r}$ 决定了等效电容的大小。\n"
   ]
  },
  {
   "cell_type": "code",
   "execution_count": 17,
   "id": "35a8ed17-7d5f-4fc2-a48f-4f1243029af7",
   "metadata": {},
   "outputs": [],
   "source": [
    "def cr(wr, Zr=50):\n",
    "    '''Calculate the characteristic frequency of the readout cavity'''\n",
    "    Cr = 1/(8*wr*Zr)\n",
    "    return np.round(Cr*1e6)\n",
    "\n",
    "def g_qr(wq, wr, Cq, Cqr, Zr=50):\n",
    "    '''Calculate the coupling strength between qubit and readout cavity'''\n",
    "    Cr = cr(wr, Zr)\n",
    "    g = Cqr*np.sqrt(wq*wr)/2/np.sqrt((Cqr+Cq)*(Cqr+Cr))\n",
    "    return g*1e3 #由GHz变为 MHz\n",
    "\n",
    "def g_qr_plot(wq, wr, Cq, gqr, Cqr_lst = np.linspace(0.1, 8, 8001)):\n",
    "    '''Plot the gqr(Cqr) and specify the desired coupling capacity between qubit and readout cavity'''\n",
    "    g = g_qr(wq, wr, Cq, Cqr_lst)\n",
    "    \n",
    "    fig, ax = plt.subplots(figsize=(10, 6))\n",
    "    \n",
    "    points = np.where(abs(g-gqr)<=1e-1)\n",
    "    \n",
    "    Cqr = points[0][-1]\n",
    "    Cqr = Cqr_lst[Cqr]\n",
    "    \n",
    "    ax.plot(Cqr_lst, g)\n",
    "    ax.set_xlabel(r'Coupling capacity $C_{qr}$')\n",
    "    ax.set_ylabel(r'Couping strength $g_{qr}$')\n",
    "    ax.vlines(Cqr, gqr-10, gqr+10, color='red', linestyle='dashed', label=r'$C_{qr}$'+' = {}'.format(Cqr))\n",
    "    ax.hlines(gqr, Cqr-0.3, Cqr+0.3, color='red', linestyle='dashed')\n",
    "    ax.legend(loc='best')\n",
    "    \n",
    "    return Cqr"
   ]
  },
  {
   "cell_type": "code",
   "execution_count": 18,
   "id": "c4fb5fc8-3a0a-4828-8a08-9481cbec5044",
   "metadata": {},
   "outputs": [
    {
     "data": {
      "text/plain": [
       "5.23105"
      ]
     },
     "execution_count": 18,
     "metadata": {},
     "output_type": "execute_result"
    },
    {
     "data": {
      "image/png": "[encoded data removed]",
      "text/plain": [
       "<Figure size 720x432 with 1 Axes>"
      ]
     },
     "metadata": {
      "needs_background": "light"
     },
     "output_type": "display_data"
    }
   ],
   "source": [
    "g_qr_plot(5.9, 7.2, 86, 95)"
   ]
  },
  {
   "cell_type": "markdown",
   "id": "6a512d98-63de-42ad-9d79-64ac0600b5cb",
   "metadata": {},
   "source": [
    "### 读出谐振腔与总线之间的耦合电容\n",
    "\n"
   ]
  },
  {
   "cell_type": "code",
   "execution_count": null,
   "id": "063a2b6b-248e-4235-bce7-93871b9e4c7a",
   "metadata": {},
   "outputs": [],
   "source": []
  },
  {
   "cell_type": "markdown",
   "id": "0de657e6-72e2-4604-b7f5-f85042991bfd",
   "metadata": {},
   "source": [
    "# 量子比特的 dephasing 时间\n",
    "\n",
    "对于Z线noise，造成比特频率间隔变化，即 $\\omega_{01}$ 变化。\n",
    "$$\n",
    "T_{\\phi}\\approx \\frac{\\hbar}{A}\\left|\\frac{\\partial E_{01}}{\\partial\\Phi}\\right|^{-1}=\\frac{\\hbar}{A}\\frac{\\Phi_{0}}{\\pi}\\left(2E_{C}E_{J}^{max}\\left|\\sin\\frac{\\pi\\Phi}{\\Phi_{0}}\\tan\\frac{\\pi\\Phi}{\\Phi_{0}}\\right|\\right)^{-1/2}\n",
    "$$\n",
    "在sweet spot点时，\n",
    "$$\n",
    "T_{\\phi}=\\left|\\frac{\\pi^{2}A^{2}}{\\hbar}\\frac{\\partial^{2}E_{01}}{\\partial \\Phi^{2}}\\right|^{-1}_{\\Phi=0} = \\frac{\\hbar\\Phi_{0}^{2}}{A^{2}\\pi^{2}\\sqrt{2E_{J}E_{C}}}\n",
    "$$"
   ]
  },
  {
   "cell_type": "code",
   "execution_count": 21,
   "id": "ca8def20-f89b-473a-a0bf-6b06b241f1f3",
   "metadata": {},
   "outputs": [],
   "source": [
    "C = 86\n",
    "Ec = cn.e**2/(2*C*1e-15) \n",
    "Ejm = JR_N(0, 5.9, 86)[-1]\n",
    "A = 1e-5\n",
    "\n",
    "def Tphi_sweet(A, Ej, Ec):\n",
    "    T = cn.hbar/(A**2 * np.pi**2 * np.sqrt(2*Ejm*Ec))\n",
    "    return T*1e3"
   ]
  },
  {
   "cell_type": "code",
   "execution_count": 22,
   "id": "8ff22547-40a1-4da6-b556-d3939d5b4216",
   "metadata": {},
   "outputs": [
    {
     "data": {
      "text/plain": [
       "52.6535443130692"
      ]
     },
     "execution_count": 22,
     "metadata": {},
     "output_type": "execute_result"
    }
   ],
   "source": [
    "Tphi_sweet(1e-5, Ejm, Ec)"
   ]
  },
  {
   "cell_type": "code",
   "execution_count": null,
   "id": "5fbd87cd-eac4-46b7-9fe9-77c2b585d8b8",
   "metadata": {},
   "outputs": [],
   "source": [
    "Ec"
   ]
  },
  {
   "cell_type": "code",
   "execution_count": null,
   "id": "bb867089-711e-404b-884a-faab7bf6361c",
   "metadata": {},
   "outputs": [],
   "source": []
  },
  {
   "cell_type": "code",
   "execution_count": null,
   "id": "dad688b8-bbb7-41bf-9a4f-9473c1c0e14e",
   "metadata": {},
   "outputs": [],
   "source": []
  }
 ],
 "metadata": {
  "kernelspec": {
   "display_name": "Python 3 (ipykernel)",
   "language": "python",
   "name": "python3"
  },
  "language_info": {
   "codemirror_mode": {
    "name": "ipython",
    "version": 3
   },
   "file_extension": ".py",
   "mimetype": "text/x-python",
   "name": "python",
   "nbconvert_exporter": "python",
   "pygments_lexer": "ipython3",
   "version": "3.9.5"
  }
 },
 "nbformat": 4,
 "nbformat_minor": 5
}
